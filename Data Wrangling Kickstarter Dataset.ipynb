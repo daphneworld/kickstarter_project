{
 "cells": [
  {
   "cell_type": "code",
   "execution_count": 1,
   "metadata": {},
   "outputs": [],
   "source": [
    "import pandas as pd\n",
    "import matplotlib.pyplot as plt\n",
    "import seaborn as sns \n",
    "import numpy as np\n",
    "%matplotlib inline\n",
    "plt.rcParams.update({'figure.max_open_warning': 0})"
   ]
  },
  {
   "cell_type": "code",
   "execution_count": 2,
   "metadata": {},
   "outputs": [
    {
     "data": {
      "text/html": [
       "<div>\n",
       "<style scoped>\n",
       "    .dataframe tbody tr th:only-of-type {\n",
       "        vertical-align: middle;\n",
       "    }\n",
       "\n",
       "    .dataframe tbody tr th {\n",
       "        vertical-align: top;\n",
       "    }\n",
       "\n",
       "    .dataframe thead th {\n",
       "        text-align: right;\n",
       "    }\n",
       "</style>\n",
       "<table border=\"1\" class=\"dataframe\">\n",
       "  <thead>\n",
       "    <tr style=\"text-align: right;\">\n",
       "      <th></th>\n",
       "      <th>name</th>\n",
       "      <th>category</th>\n",
       "      <th>main_category</th>\n",
       "      <th>currency</th>\n",
       "      <th>deadline</th>\n",
       "      <th>launched</th>\n",
       "      <th>country</th>\n",
       "      <th>usd_goal_real</th>\n",
       "      <th>percent_pledged</th>\n",
       "    </tr>\n",
       "  </thead>\n",
       "  <tbody>\n",
       "    <tr>\n",
       "      <th>0</th>\n",
       "      <td>Zombie Awareness (Canceled)</td>\n",
       "      <td>Fashion</td>\n",
       "      <td>Fashion</td>\n",
       "      <td>USD</td>\n",
       "      <td>2015-09-30</td>\n",
       "      <td>2015-08-31 16:34:35</td>\n",
       "      <td>US</td>\n",
       "      <td>1500.00</td>\n",
       "      <td>0.0</td>\n",
       "    </tr>\n",
       "    <tr>\n",
       "      <th>1</th>\n",
       "      <td>Cyberunity</td>\n",
       "      <td>Mobile Games</td>\n",
       "      <td>Games</td>\n",
       "      <td>USD</td>\n",
       "      <td>2017-05-13</td>\n",
       "      <td>2017-04-13 10:39:43</td>\n",
       "      <td>US</td>\n",
       "      <td>30000.00</td>\n",
       "      <td>0.0</td>\n",
       "    </tr>\n",
       "    <tr>\n",
       "      <th>2</th>\n",
       "      <td>Common Ground: Christians and the Message of B...</td>\n",
       "      <td>Documentary</td>\n",
       "      <td>Film &amp; Video</td>\n",
       "      <td>USD</td>\n",
       "      <td>2015-11-13</td>\n",
       "      <td>2015-10-23 17:36:17</td>\n",
       "      <td>US</td>\n",
       "      <td>10000.00</td>\n",
       "      <td>18.4</td>\n",
       "    </tr>\n",
       "    <tr>\n",
       "      <th>3</th>\n",
       "      <td>Start-Up Platform</td>\n",
       "      <td>Web</td>\n",
       "      <td>Technology</td>\n",
       "      <td>GBP</td>\n",
       "      <td>2014-09-11</td>\n",
       "      <td>2014-08-12 19:41:08</td>\n",
       "      <td>GB</td>\n",
       "      <td>162.33</td>\n",
       "      <td>1.0</td>\n",
       "    </tr>\n",
       "    <tr>\n",
       "      <th>4</th>\n",
       "      <td>Squidfires Winter Collection</td>\n",
       "      <td>Fashion</td>\n",
       "      <td>Fashion</td>\n",
       "      <td>USD</td>\n",
       "      <td>2011-11-01</td>\n",
       "      <td>2011-10-04 00:59:33</td>\n",
       "      <td>US</td>\n",
       "      <td>2000.00</td>\n",
       "      <td>5.0</td>\n",
       "    </tr>\n",
       "  </tbody>\n",
       "</table>\n",
       "</div>"
      ],
      "text/plain": [
       "                                                name      category  \\\n",
       "0                        Zombie Awareness (Canceled)       Fashion   \n",
       "1                                         Cyberunity  Mobile Games   \n",
       "2  Common Ground: Christians and the Message of B...   Documentary   \n",
       "3                                  Start-Up Platform           Web   \n",
       "4                       Squidfires Winter Collection       Fashion   \n",
       "\n",
       "  main_category currency    deadline             launched country  \\\n",
       "0       Fashion      USD  2015-09-30  2015-08-31 16:34:35      US   \n",
       "1         Games      USD  2017-05-13  2017-04-13 10:39:43      US   \n",
       "2  Film & Video      USD  2015-11-13  2015-10-23 17:36:17      US   \n",
       "3    Technology      GBP  2014-09-11  2014-08-12 19:41:08      GB   \n",
       "4       Fashion      USD  2011-11-01  2011-10-04 00:59:33      US   \n",
       "\n",
       "   usd_goal_real  percent_pledged  \n",
       "0        1500.00              0.0  \n",
       "1       30000.00              0.0  \n",
       "2       10000.00             18.4  \n",
       "3         162.33              1.0  \n",
       "4        2000.00              5.0  "
      ]
     },
     "execution_count": 2,
     "metadata": {},
     "output_type": "execute_result"
    }
   ],
   "source": [
    "df= pd.read_csv('kickstarter-train.csv')\n",
    "df.head()"
   ]
  },
  {
   "cell_type": "code",
   "execution_count": 3,
   "metadata": {},
   "outputs": [
    {
     "name": "stdout",
     "output_type": "stream",
     "text": [
      "<class 'pandas.core.frame.DataFrame'>\n",
      "RangeIndex: 294928 entries, 0 to 294927\n",
      "Data columns (total 9 columns):\n",
      "name               294924 non-null object\n",
      "category           294928 non-null object\n",
      "main_category      294928 non-null object\n",
      "currency           294928 non-null object\n",
      "deadline           294928 non-null object\n",
      "launched           294928 non-null object\n",
      "country            294928 non-null object\n",
      "usd_goal_real      294928 non-null float64\n",
      "percent_pledged    294928 non-null float64\n",
      "dtypes: float64(2), object(7)\n",
      "memory usage: 20.3+ MB\n"
     ]
    }
   ],
   "source": [
    "df.info()"
   ]
  },
  {
   "cell_type": "code",
   "execution_count": 4,
   "metadata": {},
   "outputs": [
    {
     "data": {
      "text/plain": [
       "False    294928\n",
       "dtype: int64"
      ]
     },
     "execution_count": 4,
     "metadata": {},
     "output_type": "execute_result"
    }
   ],
   "source": [
    "# Checking the duplicated rows\n",
    "df.duplicated().value_counts()"
   ]
  },
  {
   "cell_type": "code",
   "execution_count": 5,
   "metadata": {},
   "outputs": [
    {
     "data": {
      "text/plain": [
       "name               4\n",
       "category           0\n",
       "main_category      0\n",
       "currency           0\n",
       "deadline           0\n",
       "launched           0\n",
       "country            0\n",
       "usd_goal_real      0\n",
       "percent_pledged    0\n",
       "dtype: int64"
      ]
     },
     "execution_count": 5,
     "metadata": {},
     "output_type": "execute_result"
    }
   ],
   "source": [
    "df.isnull().sum()"
   ]
  },
  {
   "cell_type": "code",
   "execution_count": 6,
   "metadata": {},
   "outputs": [
    {
     "name": "stdout",
     "output_type": "stream",
     "text": [
      "(294924, 9)\n"
     ]
    }
   ],
   "source": [
    "# Removing the rows with NaN value\n",
    "data=df.dropna()\n",
    "# print the new size of data\n",
    "print(data.shape)"
   ]
  },
  {
   "cell_type": "code",
   "execution_count": 7,
   "metadata": {},
   "outputs": [
    {
     "name": "stderr",
     "output_type": "stream",
     "text": [
      "/anaconda3/lib/python3.7/site-packages/ipykernel_launcher.py:1: SettingWithCopyWarning: \n",
      "A value is trying to be set on a copy of a slice from a DataFrame.\n",
      "Try using .loc[row_indexer,col_indexer] = value instead\n",
      "\n",
      "See the caveats in the documentation: http://pandas.pydata.org/pandas-docs/stable/indexing.html#indexing-view-versus-copy\n",
      "  \"\"\"Entry point for launching an IPython kernel.\n",
      "/anaconda3/lib/python3.7/site-packages/ipykernel_launcher.py:2: SettingWithCopyWarning: \n",
      "A value is trying to be set on a copy of a slice from a DataFrame.\n",
      "Try using .loc[row_indexer,col_indexer] = value instead\n",
      "\n",
      "See the caveats in the documentation: http://pandas.pydata.org/pandas-docs/stable/indexing.html#indexing-view-versus-copy\n",
      "  \n"
     ]
    }
   ],
   "source": [
    "data['deadline']=data['deadline'].apply(pd.to_datetime)\n",
    "data['launched']=data['launched'].apply(pd.to_datetime)"
   ]
  },
  {
   "cell_type": "code",
   "execution_count": 8,
   "metadata": {},
   "outputs": [
    {
     "name": "stdout",
     "output_type": "stream",
     "text": [
      "name                       object\n",
      "category                   object\n",
      "main_category              object\n",
      "currency                   object\n",
      "deadline           datetime64[ns]\n",
      "launched           datetime64[ns]\n",
      "country                    object\n",
      "usd_goal_real             float64\n",
      "percent_pledged           float64\n",
      "dtype: object\n"
     ]
    }
   ],
   "source": [
    "#print the type of the columns\n",
    "print(data.dtypes)"
   ]
  },
  {
   "cell_type": "code",
   "execution_count": 10,
   "metadata": {},
   "outputs": [
    {
     "name": "stderr",
     "output_type": "stream",
     "text": [
      "/anaconda3/lib/python3.7/site-packages/ipykernel_launcher.py:1: SettingWithCopyWarning: \n",
      "A value is trying to be set on a copy of a slice from a DataFrame.\n",
      "Try using .loc[row_indexer,col_indexer] = value instead\n",
      "\n",
      "See the caveats in the documentation: http://pandas.pydata.org/pandas-docs/stable/indexing.html#indexing-view-versus-copy\n",
      "  \"\"\"Entry point for launching an IPython kernel.\n"
     ]
    },
    {
     "data": {
      "text/plain": [
       "0   29 days 07:25:25\n",
       "1   29 days 13:20:17\n",
       "2   20 days 06:23:43\n",
       "3   29 days 04:18:52\n",
       "4   27 days 23:00:27\n",
       "Name: How_long, dtype: timedelta64[ns]"
      ]
     },
     "execution_count": 10,
     "metadata": {},
     "output_type": "execute_result"
    }
   ],
   "source": [
    "data['How_long']=data['deadline']-data['launched']\n",
    "data['How_long'].head()"
   ]
  },
  {
   "cell_type": "code",
   "execution_count": 12,
   "metadata": {},
   "outputs": [
    {
     "name": "stderr",
     "output_type": "stream",
     "text": [
      "/anaconda3/lib/python3.7/site-packages/ipykernel_launcher.py:1: SettingWithCopyWarning: \n",
      "A value is trying to be set on a copy of a slice from a DataFrame.\n",
      "Try using .loc[row_indexer,col_indexer] = value instead\n",
      "\n",
      "See the caveats in the documentation: http://pandas.pydata.org/pandas-docs/stable/indexing.html#indexing-view-versus-copy\n",
      "  \"\"\"Entry point for launching an IPython kernel.\n"
     ]
    },
    {
     "data": {
      "text/plain": [
       "0    29\n",
       "1    29\n",
       "2    20\n",
       "3    29\n",
       "4    27\n",
       "Name: How_many_day, dtype: object"
      ]
     },
     "execution_count": 12,
     "metadata": {},
     "output_type": "execute_result"
    }
   ],
   "source": [
    "data['How_many_day']=data.How_long.astype('str').str.split(' ').str[0]\n",
    "data['How_many_day'].head()"
   ]
  },
  {
   "cell_type": "code",
   "execution_count": 14,
   "metadata": {},
   "outputs": [
    {
     "name": "stderr",
     "output_type": "stream",
     "text": [
      "/anaconda3/lib/python3.7/site-packages/pandas/core/frame.py:3140: SettingWithCopyWarning: \n",
      "A value is trying to be set on a copy of a slice from a DataFrame.\n",
      "Try using .loc[row_indexer,col_indexer] = value instead\n",
      "\n",
      "See the caveats in the documentation: http://pandas.pydata.org/pandas-docs/stable/indexing.html#indexing-view-versus-copy\n",
      "  self[k1] = value[k2]\n"
     ]
    }
   ],
   "source": [
    "data[['How_many_day']]=data[['How_many_day']].apply(pd.to_numeric)"
   ]
  },
  {
   "cell_type": "code",
   "execution_count": 16,
   "metadata": {},
   "outputs": [
    {
     "name": "stdout",
     "output_type": "stream",
     "text": [
      "<class 'pandas.core.frame.DataFrame'>\n",
      "Int64Index: 294924 entries, 0 to 294927\n",
      "Data columns (total 11 columns):\n",
      "name               294924 non-null object\n",
      "category           294924 non-null object\n",
      "main_category      294924 non-null object\n",
      "currency           294924 non-null object\n",
      "deadline           294924 non-null datetime64[ns]\n",
      "launched           294924 non-null datetime64[ns]\n",
      "country            294924 non-null object\n",
      "usd_goal_real      294924 non-null float64\n",
      "percent_pledged    294924 non-null float64\n",
      "How_long           294924 non-null timedelta64[ns]\n",
      "How_many_day       294924 non-null int64\n",
      "dtypes: datetime64[ns](2), float64(2), int64(1), object(5), timedelta64[ns](1)\n",
      "memory usage: 27.0+ MB\n"
     ]
    }
   ],
   "source": [
    "data.info()"
   ]
  },
  {
   "cell_type": "code",
   "execution_count": 17,
   "metadata": {},
   "outputs": [
    {
     "name": "stderr",
     "output_type": "stream",
     "text": [
      "/anaconda3/lib/python3.7/site-packages/pandas/core/indexing.py:362: SettingWithCopyWarning: \n",
      "A value is trying to be set on a copy of a slice from a DataFrame.\n",
      "Try using .loc[row_indexer,col_indexer] = value instead\n",
      "\n",
      "See the caveats in the documentation: http://pandas.pydata.org/pandas-docs/stable/indexing.html#indexing-view-versus-copy\n",
      "  self.obj[key] = _infer_fill_value(value)\n",
      "/anaconda3/lib/python3.7/site-packages/pandas/core/indexing.py:543: SettingWithCopyWarning: \n",
      "A value is trying to be set on a copy of a slice from a DataFrame.\n",
      "Try using .loc[row_indexer,col_indexer] = value instead\n",
      "\n",
      "See the caveats in the documentation: http://pandas.pydata.org/pandas-docs/stable/indexing.html#indexing-view-versus-copy\n",
      "  self.obj[item] = s\n"
     ]
    }
   ],
   "source": [
    "data.loc[data['name'].str.contains(\"anceled\"),'canceled']=1"
   ]
  },
  {
   "cell_type": "code",
   "execution_count": 18,
   "metadata": {},
   "outputs": [
    {
     "name": "stderr",
     "output_type": "stream",
     "text": [
      "/anaconda3/lib/python3.7/site-packages/pandas/core/generic.py:5434: SettingWithCopyWarning: \n",
      "A value is trying to be set on a copy of a slice from a DataFrame\n",
      "\n",
      "See the caveats in the documentation: http://pandas.pydata.org/pandas-docs/stable/indexing.html#indexing-view-versus-copy\n",
      "  self._update_inplace(new_data)\n"
     ]
    }
   ],
   "source": [
    "value={'canceled': 0}\n",
    "data.fillna(value=value,inplace=True)"
   ]
  },
  {
   "cell_type": "code",
   "execution_count": 20,
   "metadata": {},
   "outputs": [
    {
     "name": "stdout",
     "output_type": "stream",
     "text": [
      "(294924, 11)\n"
     ]
    }
   ],
   "source": [
    "# Removing the unnecessary information columns\n",
    "data_new=data.drop(columns=['How_long'],axis=1)\n",
    "# print the new size of data\n",
    "print(data_new.shape)"
   ]
  },
  {
   "cell_type": "code",
   "execution_count": 21,
   "metadata": {},
   "outputs": [
    {
     "data": {
      "text/html": [
       "<div>\n",
       "<style scoped>\n",
       "    .dataframe tbody tr th:only-of-type {\n",
       "        vertical-align: middle;\n",
       "    }\n",
       "\n",
       "    .dataframe tbody tr th {\n",
       "        vertical-align: top;\n",
       "    }\n",
       "\n",
       "    .dataframe thead th {\n",
       "        text-align: right;\n",
       "    }\n",
       "</style>\n",
       "<table border=\"1\" class=\"dataframe\">\n",
       "  <thead>\n",
       "    <tr style=\"text-align: right;\">\n",
       "      <th></th>\n",
       "      <th>name</th>\n",
       "      <th>category</th>\n",
       "      <th>main_category</th>\n",
       "      <th>currency</th>\n",
       "      <th>deadline</th>\n",
       "      <th>launched</th>\n",
       "      <th>country</th>\n",
       "      <th>usd_goal_real</th>\n",
       "      <th>percent_pledged</th>\n",
       "      <th>How_many_day</th>\n",
       "      <th>canceled</th>\n",
       "    </tr>\n",
       "  </thead>\n",
       "  <tbody>\n",
       "    <tr>\n",
       "      <th>0</th>\n",
       "      <td>Zombie Awareness (Canceled)</td>\n",
       "      <td>Fashion</td>\n",
       "      <td>Fashion</td>\n",
       "      <td>USD</td>\n",
       "      <td>2015-09-30</td>\n",
       "      <td>2015-08-31 16:34:35</td>\n",
       "      <td>US</td>\n",
       "      <td>1500.00</td>\n",
       "      <td>0.0</td>\n",
       "      <td>29</td>\n",
       "      <td>1.0</td>\n",
       "    </tr>\n",
       "    <tr>\n",
       "      <th>1</th>\n",
       "      <td>Cyberunity</td>\n",
       "      <td>Mobile Games</td>\n",
       "      <td>Games</td>\n",
       "      <td>USD</td>\n",
       "      <td>2017-05-13</td>\n",
       "      <td>2017-04-13 10:39:43</td>\n",
       "      <td>US</td>\n",
       "      <td>30000.00</td>\n",
       "      <td>0.0</td>\n",
       "      <td>29</td>\n",
       "      <td>0.0</td>\n",
       "    </tr>\n",
       "    <tr>\n",
       "      <th>2</th>\n",
       "      <td>Common Ground: Christians and the Message of B...</td>\n",
       "      <td>Documentary</td>\n",
       "      <td>Film &amp; Video</td>\n",
       "      <td>USD</td>\n",
       "      <td>2015-11-13</td>\n",
       "      <td>2015-10-23 17:36:17</td>\n",
       "      <td>US</td>\n",
       "      <td>10000.00</td>\n",
       "      <td>18.4</td>\n",
       "      <td>20</td>\n",
       "      <td>0.0</td>\n",
       "    </tr>\n",
       "    <tr>\n",
       "      <th>3</th>\n",
       "      <td>Start-Up Platform</td>\n",
       "      <td>Web</td>\n",
       "      <td>Technology</td>\n",
       "      <td>GBP</td>\n",
       "      <td>2014-09-11</td>\n",
       "      <td>2014-08-12 19:41:08</td>\n",
       "      <td>GB</td>\n",
       "      <td>162.33</td>\n",
       "      <td>1.0</td>\n",
       "      <td>29</td>\n",
       "      <td>0.0</td>\n",
       "    </tr>\n",
       "    <tr>\n",
       "      <th>4</th>\n",
       "      <td>Squidfires Winter Collection</td>\n",
       "      <td>Fashion</td>\n",
       "      <td>Fashion</td>\n",
       "      <td>USD</td>\n",
       "      <td>2011-11-01</td>\n",
       "      <td>2011-10-04 00:59:33</td>\n",
       "      <td>US</td>\n",
       "      <td>2000.00</td>\n",
       "      <td>5.0</td>\n",
       "      <td>27</td>\n",
       "      <td>0.0</td>\n",
       "    </tr>\n",
       "  </tbody>\n",
       "</table>\n",
       "</div>"
      ],
      "text/plain": [
       "                                                name      category  \\\n",
       "0                        Zombie Awareness (Canceled)       Fashion   \n",
       "1                                         Cyberunity  Mobile Games   \n",
       "2  Common Ground: Christians and the Message of B...   Documentary   \n",
       "3                                  Start-Up Platform           Web   \n",
       "4                       Squidfires Winter Collection       Fashion   \n",
       "\n",
       "  main_category currency   deadline            launched country  \\\n",
       "0       Fashion      USD 2015-09-30 2015-08-31 16:34:35      US   \n",
       "1         Games      USD 2017-05-13 2017-04-13 10:39:43      US   \n",
       "2  Film & Video      USD 2015-11-13 2015-10-23 17:36:17      US   \n",
       "3    Technology      GBP 2014-09-11 2014-08-12 19:41:08      GB   \n",
       "4       Fashion      USD 2011-11-01 2011-10-04 00:59:33      US   \n",
       "\n",
       "   usd_goal_real  percent_pledged  How_many_day  canceled  \n",
       "0        1500.00              0.0            29       1.0  \n",
       "1       30000.00              0.0            29       0.0  \n",
       "2       10000.00             18.4            20       0.0  \n",
       "3         162.33              1.0            29       0.0  \n",
       "4        2000.00              5.0            27       0.0  "
      ]
     },
     "execution_count": 21,
     "metadata": {},
     "output_type": "execute_result"
    }
   ],
   "source": [
    "data_new.head()"
   ]
  },
  {
   "cell_type": "code",
   "execution_count": 23,
   "metadata": {},
   "outputs": [],
   "source": [
    "# exporting data\n",
    "data_new.to_csv('Kickstarter_Clean_Dataset.csv', index = False)"
   ]
  }
 ],
 "metadata": {
  "kernelspec": {
   "display_name": "Python 3",
   "language": "python",
   "name": "python3"
  },
  "language_info": {
   "codemirror_mode": {
    "name": "ipython",
    "version": 3
   },
   "file_extension": ".py",
   "mimetype": "text/x-python",
   "name": "python",
   "nbconvert_exporter": "python",
   "pygments_lexer": "ipython3",
   "version": "3.7.1"
  }
 },
 "nbformat": 4,
 "nbformat_minor": 2
}
