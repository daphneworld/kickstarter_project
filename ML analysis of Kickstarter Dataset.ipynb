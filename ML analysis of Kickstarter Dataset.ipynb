{
 "cells": [
  {
   "cell_type": "markdown",
   "metadata": {},
   "source": [
    "# Kickstarter Predictions for Pledge Levels\n",
    "\n",
    "The project pledge level is a value from 1 to 4, where 1 means funding of no more than 10% of the project goal, 2 means funding of more than 10% but no more than 100% of the project goal, 3 means funding of more than 100% but no more than 1000% of the project goal, and 4 means funding of more than 1000% of the project goal.\n",
    "\n",
    "The performance of your classifier will be measured by the mean squared error for predictions. For example if classifier predicts 2 as the pledge level, but the actual pledge level is 4, then the squared error is (4-2)^2, or 4. The mean squared error is the squared error averaged across all of your predictions on the test data set.\n",
    "\n",
    "## Import Packages"
   ]
  },
  {
   "cell_type": "code",
   "execution_count": 9,
   "metadata": {},
   "outputs": [],
   "source": [
    "import numpy as np\n",
    "import matplotlib.pyplot as plt\n",
    "from sklearn import feature_selection\n",
    "from sklearn.base import BaseEstimator, TransformerMixin\n",
    "import pandas as pd\n",
    "from sklearn.externals import joblib\n",
    "from sklearn.preprocessing import StandardScaler\n",
    "from sklearn.ensemble import RandomForestClassifier\n",
    "from sklearn.pipeline import Pipeline, FeatureUnion, make_pipeline\n",
    "from sklearn.model_selection import train_test_split\n",
    "import warnings\n",
    "from sklearn.feature_extraction.text import TfidfVectorizer\n",
    "from sklearn.metrics import accuracy_score\n",
    "from sklearn.model_selection import cross_val_score\n",
    "from sklearn.ensemble import ExtraTreesClassifier\n",
    "from sklearn.ensemble import GradientBoostingClassifier\n",
    "from sklearn.model_selection import StratifiedKFold\n",
    "from sklearn.neighbors import RadiusNeighborsClassifier\n",
    "from sklearn.tree import DecisionTreeClassifier\n",
    "from sklearn.ensemble import GradientBoostingRegressor\n",
    "import argparse\n",
    "warnings.filterwarnings('ignore')"
   ]
  },
  {
   "cell_type": "markdown",
   "metadata": {},
   "source": [
    "## Load Data"
   ]
  },
  {
   "cell_type": "code",
   "execution_count": 10,
   "metadata": {},
   "outputs": [
    {
     "name": "stdout",
     "output_type": "stream",
     "text": [
      "<class 'pandas.core.frame.DataFrame'>\n",
      "RangeIndex: 294928 entries, 0 to 294927\n",
      "Data columns (total 9 columns):\n",
      "name             294924 non-null object\n",
      "category         294928 non-null object\n",
      "main_category    294928 non-null object\n",
      "currency         294928 non-null object\n",
      "deadline         294928 non-null object\n",
      "launched         294928 non-null object\n",
      "country          294928 non-null object\n",
      "usd_goal_real    294928 non-null float64\n",
      "pledge_level     294928 non-null int64\n",
      "dtypes: float64(1), int64(1), object(7)\n",
      "memory usage: 20.3+ MB\n"
     ]
    }
   ],
   "source": [
    "data=pd.read_csv('kickstarter-train-classifier.csv',\n",
    "                 index_col=False)\n",
    "data.info()"
   ]
  },
  {
   "cell_type": "markdown",
   "metadata": {},
   "source": [
    "## Data Wrangling"
   ]
  },
  {
   "cell_type": "code",
   "execution_count": 11,
   "metadata": {},
   "outputs": [],
   "source": [
    "#Creating new columns\n",
    "data['deadline']=data['deadline'].apply(pd.to_datetime)\n",
    "data['launched']=data['launched'].apply(pd.to_datetime)"
   ]
  },
  {
   "cell_type": "code",
   "execution_count": 12,
   "metadata": {},
   "outputs": [
    {
     "data": {
      "text/plain": [
       "0   29 days 07:25:25\n",
       "1   29 days 13:20:17\n",
       "2   20 days 06:23:43\n",
       "3   29 days 04:18:52\n",
       "4   27 days 23:00:27\n",
       "Name: Howlong, dtype: timedelta64[ns]"
      ]
     },
     "execution_count": 12,
     "metadata": {},
     "output_type": "execute_result"
    }
   ],
   "source": [
    "data['Howlong']=data['deadline']-data['launched']\n",
    "data['Howlong'].head()"
   ]
  },
  {
   "cell_type": "code",
   "execution_count": 13,
   "metadata": {},
   "outputs": [
    {
     "data": {
      "text/html": [
       "<div>\n",
       "<style scoped>\n",
       "    .dataframe tbody tr th:only-of-type {\n",
       "        vertical-align: middle;\n",
       "    }\n",
       "\n",
       "    .dataframe tbody tr th {\n",
       "        vertical-align: top;\n",
       "    }\n",
       "\n",
       "    .dataframe thead th {\n",
       "        text-align: right;\n",
       "    }\n",
       "</style>\n",
       "<table border=\"1\" class=\"dataframe\">\n",
       "  <thead>\n",
       "    <tr style=\"text-align: right;\">\n",
       "      <th></th>\n",
       "      <th>name</th>\n",
       "      <th>category</th>\n",
       "      <th>main_category</th>\n",
       "      <th>currency</th>\n",
       "      <th>deadline</th>\n",
       "      <th>launched</th>\n",
       "      <th>country</th>\n",
       "      <th>usd_goal_real</th>\n",
       "      <th>pledge_level</th>\n",
       "      <th>Howlong</th>\n",
       "    </tr>\n",
       "  </thead>\n",
       "  <tbody>\n",
       "    <tr>\n",
       "      <th>0</th>\n",
       "      <td>Zombie Awareness (Canceled)</td>\n",
       "      <td>Fashion</td>\n",
       "      <td>Fashion</td>\n",
       "      <td>USD</td>\n",
       "      <td>2015-09-30</td>\n",
       "      <td>2015-08-31 16:34:35</td>\n",
       "      <td>US</td>\n",
       "      <td>1500.00</td>\n",
       "      <td>1</td>\n",
       "      <td>29</td>\n",
       "    </tr>\n",
       "    <tr>\n",
       "      <th>1</th>\n",
       "      <td>Cyberunity</td>\n",
       "      <td>Mobile Games</td>\n",
       "      <td>Games</td>\n",
       "      <td>USD</td>\n",
       "      <td>2017-05-13</td>\n",
       "      <td>2017-04-13 10:39:43</td>\n",
       "      <td>US</td>\n",
       "      <td>30000.00</td>\n",
       "      <td>1</td>\n",
       "      <td>29</td>\n",
       "    </tr>\n",
       "    <tr>\n",
       "      <th>2</th>\n",
       "      <td>Common Ground: Christians and the Message of B...</td>\n",
       "      <td>Documentary</td>\n",
       "      <td>Film &amp; Video</td>\n",
       "      <td>USD</td>\n",
       "      <td>2015-11-13</td>\n",
       "      <td>2015-10-23 17:36:17</td>\n",
       "      <td>US</td>\n",
       "      <td>10000.00</td>\n",
       "      <td>2</td>\n",
       "      <td>20</td>\n",
       "    </tr>\n",
       "    <tr>\n",
       "      <th>3</th>\n",
       "      <td>Start-Up Platform</td>\n",
       "      <td>Web</td>\n",
       "      <td>Technology</td>\n",
       "      <td>GBP</td>\n",
       "      <td>2014-09-11</td>\n",
       "      <td>2014-08-12 19:41:08</td>\n",
       "      <td>GB</td>\n",
       "      <td>162.33</td>\n",
       "      <td>1</td>\n",
       "      <td>29</td>\n",
       "    </tr>\n",
       "    <tr>\n",
       "      <th>4</th>\n",
       "      <td>Squidfires Winter Collection</td>\n",
       "      <td>Fashion</td>\n",
       "      <td>Fashion</td>\n",
       "      <td>USD</td>\n",
       "      <td>2011-11-01</td>\n",
       "      <td>2011-10-04 00:59:33</td>\n",
       "      <td>US</td>\n",
       "      <td>2000.00</td>\n",
       "      <td>1</td>\n",
       "      <td>27</td>\n",
       "    </tr>\n",
       "  </tbody>\n",
       "</table>\n",
       "</div>"
      ],
      "text/plain": [
       "                                                name      category  \\\n",
       "0                        Zombie Awareness (Canceled)       Fashion   \n",
       "1                                         Cyberunity  Mobile Games   \n",
       "2  Common Ground: Christians and the Message of B...   Documentary   \n",
       "3                                  Start-Up Platform           Web   \n",
       "4                       Squidfires Winter Collection       Fashion   \n",
       "\n",
       "  main_category currency   deadline            launched country  \\\n",
       "0       Fashion      USD 2015-09-30 2015-08-31 16:34:35      US   \n",
       "1         Games      USD 2017-05-13 2017-04-13 10:39:43      US   \n",
       "2  Film & Video      USD 2015-11-13 2015-10-23 17:36:17      US   \n",
       "3    Technology      GBP 2014-09-11 2014-08-12 19:41:08      GB   \n",
       "4       Fashion      USD 2011-11-01 2011-10-04 00:59:33      US   \n",
       "\n",
       "   usd_goal_real  pledge_level  Howlong  \n",
       "0        1500.00             1       29  \n",
       "1       30000.00             1       29  \n",
       "2       10000.00             2       20  \n",
       "3         162.33             1       29  \n",
       "4        2000.00             1       27  "
      ]
     },
     "execution_count": 13,
     "metadata": {},
     "output_type": "execute_result"
    }
   ],
   "source": [
    "data['Howlong']=data.Howlong.astype('str').str.split(' ').str[0]\n",
    "data['Howlong']=data.Howlong.astype('int32')\n",
    "data.head()"
   ]
  },
  {
   "cell_type": "code",
   "execution_count": 14,
   "metadata": {},
   "outputs": [],
   "source": [
    "# Drop the NaN values\n",
    "data_a=data.dropna()\n",
    "data_a.loc[data_a['name'].str.contains(\"anceled\"),'canceled']=1"
   ]
  },
  {
   "cell_type": "code",
   "execution_count": 15,
   "metadata": {},
   "outputs": [
    {
     "data": {
      "text/html": [
       "<div>\n",
       "<style scoped>\n",
       "    .dataframe tbody tr th:only-of-type {\n",
       "        vertical-align: middle;\n",
       "    }\n",
       "\n",
       "    .dataframe tbody tr th {\n",
       "        vertical-align: top;\n",
       "    }\n",
       "\n",
       "    .dataframe thead th {\n",
       "        text-align: right;\n",
       "    }\n",
       "</style>\n",
       "<table border=\"1\" class=\"dataframe\">\n",
       "  <thead>\n",
       "    <tr style=\"text-align: right;\">\n",
       "      <th></th>\n",
       "      <th>category</th>\n",
       "      <th>main_category</th>\n",
       "      <th>currency</th>\n",
       "      <th>country</th>\n",
       "      <th>usd_goal_real</th>\n",
       "      <th>pledge_level</th>\n",
       "      <th>Howlong</th>\n",
       "      <th>canceled</th>\n",
       "    </tr>\n",
       "  </thead>\n",
       "  <tbody>\n",
       "    <tr>\n",
       "      <th>0</th>\n",
       "      <td>Fashion</td>\n",
       "      <td>Fashion</td>\n",
       "      <td>USD</td>\n",
       "      <td>US</td>\n",
       "      <td>1500.00</td>\n",
       "      <td>1</td>\n",
       "      <td>29</td>\n",
       "      <td>1.0</td>\n",
       "    </tr>\n",
       "    <tr>\n",
       "      <th>1</th>\n",
       "      <td>Mobile Games</td>\n",
       "      <td>Games</td>\n",
       "      <td>USD</td>\n",
       "      <td>US</td>\n",
       "      <td>30000.00</td>\n",
       "      <td>1</td>\n",
       "      <td>29</td>\n",
       "      <td>0.0</td>\n",
       "    </tr>\n",
       "    <tr>\n",
       "      <th>2</th>\n",
       "      <td>Documentary</td>\n",
       "      <td>Film &amp; Video</td>\n",
       "      <td>USD</td>\n",
       "      <td>US</td>\n",
       "      <td>10000.00</td>\n",
       "      <td>2</td>\n",
       "      <td>20</td>\n",
       "      <td>0.0</td>\n",
       "    </tr>\n",
       "    <tr>\n",
       "      <th>3</th>\n",
       "      <td>Web</td>\n",
       "      <td>Technology</td>\n",
       "      <td>GBP</td>\n",
       "      <td>GB</td>\n",
       "      <td>162.33</td>\n",
       "      <td>1</td>\n",
       "      <td>29</td>\n",
       "      <td>0.0</td>\n",
       "    </tr>\n",
       "    <tr>\n",
       "      <th>4</th>\n",
       "      <td>Fashion</td>\n",
       "      <td>Fashion</td>\n",
       "      <td>USD</td>\n",
       "      <td>US</td>\n",
       "      <td>2000.00</td>\n",
       "      <td>1</td>\n",
       "      <td>27</td>\n",
       "      <td>0.0</td>\n",
       "    </tr>\n",
       "  </tbody>\n",
       "</table>\n",
       "</div>"
      ],
      "text/plain": [
       "       category main_category currency country  usd_goal_real  pledge_level  \\\n",
       "0       Fashion       Fashion      USD      US        1500.00             1   \n",
       "1  Mobile Games         Games      USD      US       30000.00             1   \n",
       "2   Documentary  Film & Video      USD      US       10000.00             2   \n",
       "3           Web    Technology      GBP      GB         162.33             1   \n",
       "4       Fashion       Fashion      USD      US        2000.00             1   \n",
       "\n",
       "   Howlong  canceled  \n",
       "0       29       1.0  \n",
       "1       29       0.0  \n",
       "2       20       0.0  \n",
       "3       29       0.0  \n",
       "4       27       0.0  "
      ]
     },
     "execution_count": 15,
     "metadata": {},
     "output_type": "execute_result"
    }
   ],
   "source": [
    "dfs=data_a.drop(['name','deadline','launched'],axis=1)\n",
    "value={'canceled': 0}\n",
    "dfs.fillna(value=value,inplace=True)\n",
    "dfs.head()"
   ]
  },
  {
   "cell_type": "code",
   "execution_count": 46,
   "metadata": {},
   "outputs": [
    {
     "name": "stdout",
     "output_type": "stream",
     "text": [
      "17809  number of project canceled\n"
     ]
    }
   ],
   "source": [
    "num_canceled=dfs[dfs.canceled==1]\n",
    "print(len(num_canceled),' number of project canceled')"
   ]
  },
  {
   "cell_type": "code",
   "execution_count": 16,
   "metadata": {},
   "outputs": [
    {
     "name": "stdout",
     "output_type": "stream",
     "text": [
      "<class 'pandas.core.frame.DataFrame'>\n",
      "Int64Index: 294924 entries, 0 to 294927\n",
      "Data columns (total 8 columns):\n",
      "category         294924 non-null object\n",
      "main_category    294924 non-null object\n",
      "currency         294924 non-null object\n",
      "country          294924 non-null object\n",
      "usd_goal_real    294924 non-null float64\n",
      "pledgelevel      294924 non-null int64\n",
      "Howlong          294924 non-null int32\n",
      "canceled         294924 non-null float64\n",
      "dtypes: float64(2), int32(1), int64(1), object(4)\n",
      "memory usage: 19.1+ MB\n"
     ]
    }
   ],
   "source": [
    "# rename the target column\n",
    "df = dfs.rename(columns={'pledge_level': 'pledgelevel'})\n",
    "df.info()"
   ]
  },
  {
   "cell_type": "code",
   "execution_count": 17,
   "metadata": {},
   "outputs": [
    {
     "data": {
      "text/plain": [
       "1    140013\n",
       "3     98983\n",
       "2     52652\n",
       "4      3276\n",
       "Name: pledgelevel, dtype: int64"
      ]
     },
     "execution_count": 17,
     "metadata": {},
     "output_type": "execute_result"
    }
   ],
   "source": [
    "# Value caunts\n",
    "df['pledgelevel'].value_counts()"
   ]
  },
  {
   "cell_type": "markdown",
   "metadata": {},
   "source": [
    "## Upsampling the imbalance data"
   ]
  },
  {
   "cell_type": "code",
   "execution_count": 18,
   "metadata": {},
   "outputs": [],
   "source": [
    "from sklearn.utils import resample\n",
    "y=df['pledgelevel']\n",
    "X=df.drop('pledgelevel', axis=1)\n",
    "X_train, X_test, y_train, y_test= train_test_split(X,y,test_size=0.4,random_state=42)"
   ]
  },
  {
   "cell_type": "code",
   "execution_count": 19,
   "metadata": {},
   "outputs": [],
   "source": [
    "X_new = pd.concat([X_train, y_train], axis=1)\n",
    "low = X_new[X_new.pledgelevel==4]\n",
    "middlelow= X_new[X_new.pledgelevel==2]\n",
    "middlehigh= X_new[X_new.pledgelevel==3]\n",
    "high = X_new[X_new.pledgelevel==1]"
   ]
  },
  {
   "cell_type": "code",
   "execution_count": 20,
   "metadata": {},
   "outputs": [
    {
     "data": {
      "text/plain": [
       "4    83931\n",
       "3    83931\n",
       "2    83931\n",
       "1    83931\n",
       "Name: pledgelevel, dtype: int64"
      ]
     },
     "execution_count": 20,
     "metadata": {},
     "output_type": "execute_result"
    }
   ],
   "source": [
    "low_upsampled = resample(low,\n",
    "                          replace=True, # sample with replacement\n",
    "                          n_samples=len(high), # match number in majority class\n",
    "                          random_state=27) # reproducible results\n",
    "middlelow_upsampled=resample(middlelow,\n",
    "                          replace=True,\n",
    "                          n_samples=len(high),\n",
    "                          random_state=27)\n",
    "middlehigh_upsampled=resample(middlehigh,\n",
    "                          replace=True,\n",
    "                          n_samples=len(high),\n",
    "                          random_state=27)\n",
    "# combine majority and upsampled minority\n",
    "upsampled = pd.concat([high, low_upsampled,middlelow_upsampled,middlehigh_upsampled])\n",
    "\n",
    "# check new class counts\n",
    "upsampled.pledgelevel.value_counts()"
   ]
  },
  {
   "cell_type": "code",
   "execution_count": 21,
   "metadata": {},
   "outputs": [
    {
     "data": {
      "text/html": [
       "<div>\n",
       "<style scoped>\n",
       "    .dataframe tbody tr th:only-of-type {\n",
       "        vertical-align: middle;\n",
       "    }\n",
       "\n",
       "    .dataframe tbody tr th {\n",
       "        vertical-align: top;\n",
       "    }\n",
       "\n",
       "    .dataframe thead th {\n",
       "        text-align: right;\n",
       "    }\n",
       "</style>\n",
       "<table border=\"1\" class=\"dataframe\">\n",
       "  <thead>\n",
       "    <tr style=\"text-align: right;\">\n",
       "      <th></th>\n",
       "      <th>category</th>\n",
       "      <th>main_category</th>\n",
       "      <th>currency</th>\n",
       "      <th>country</th>\n",
       "      <th>usd_goal_real</th>\n",
       "      <th>Howlong</th>\n",
       "      <th>canceled</th>\n",
       "      <th>pledgelevel</th>\n",
       "    </tr>\n",
       "  </thead>\n",
       "  <tbody>\n",
       "    <tr>\n",
       "      <th>152975</th>\n",
       "      <td>Fiction</td>\n",
       "      <td>Publishing</td>\n",
       "      <td>USD</td>\n",
       "      <td>US</td>\n",
       "      <td>7500.0</td>\n",
       "      <td>44</td>\n",
       "      <td>0.0</td>\n",
       "      <td>1</td>\n",
       "    </tr>\n",
       "    <tr>\n",
       "      <th>175797</th>\n",
       "      <td>Wearables</td>\n",
       "      <td>Technology</td>\n",
       "      <td>USD</td>\n",
       "      <td>US</td>\n",
       "      <td>17000.0</td>\n",
       "      <td>29</td>\n",
       "      <td>0.0</td>\n",
       "      <td>1</td>\n",
       "    </tr>\n",
       "    <tr>\n",
       "      <th>226883</th>\n",
       "      <td>Restaurants</td>\n",
       "      <td>Food</td>\n",
       "      <td>USD</td>\n",
       "      <td>US</td>\n",
       "      <td>50000.0</td>\n",
       "      <td>29</td>\n",
       "      <td>0.0</td>\n",
       "      <td>1</td>\n",
       "    </tr>\n",
       "    <tr>\n",
       "      <th>16691</th>\n",
       "      <td>Rock</td>\n",
       "      <td>Music</td>\n",
       "      <td>USD</td>\n",
       "      <td>US</td>\n",
       "      <td>10000.0</td>\n",
       "      <td>34</td>\n",
       "      <td>0.0</td>\n",
       "      <td>1</td>\n",
       "    </tr>\n",
       "    <tr>\n",
       "      <th>155966</th>\n",
       "      <td>Technology</td>\n",
       "      <td>Technology</td>\n",
       "      <td>USD</td>\n",
       "      <td>US</td>\n",
       "      <td>30000.0</td>\n",
       "      <td>29</td>\n",
       "      <td>0.0</td>\n",
       "      <td>1</td>\n",
       "    </tr>\n",
       "  </tbody>\n",
       "</table>\n",
       "</div>"
      ],
      "text/plain": [
       "           category main_category currency country  usd_goal_real  Howlong  \\\n",
       "152975      Fiction    Publishing      USD      US         7500.0       44   \n",
       "175797    Wearables    Technology      USD      US        17000.0       29   \n",
       "226883  Restaurants          Food      USD      US        50000.0       29   \n",
       "16691          Rock         Music      USD      US        10000.0       34   \n",
       "155966   Technology    Technology      USD      US        30000.0       29   \n",
       "\n",
       "        canceled  pledgelevel  \n",
       "152975       0.0            1  \n",
       "175797       0.0            1  \n",
       "226883       0.0            1  \n",
       "16691        0.0            1  \n",
       "155966       0.0            1  "
      ]
     },
     "execution_count": 21,
     "metadata": {},
     "output_type": "execute_result"
    }
   ],
   "source": [
    "upsampled.head()"
   ]
  },
  {
   "cell_type": "code",
   "execution_count": 22,
   "metadata": {},
   "outputs": [],
   "source": [
    "y=upsampled.pledgelevel\n",
    "X=upsampled.drop('pledgelevel', axis=1)\n",
    "features = X.as_matrix()\n",
    "target=y.as_matrix()"
   ]
  },
  {
   "cell_type": "markdown",
   "metadata": {},
   "source": [
    "## Create custom transformers\n",
    "\n",
    "*PositionalSelector:* Given a list of indices C and a matrix M, this returns a matrix with a subset of M's columns, indicated by C.\n",
    "\n",
    "*StripString:* Given a matrix of strings, this strips whitespaces from each string.\n",
    "\n",
    "*SimpleOneHotEncoder:* A simple one-hot encoder which can be applied to a matrix of strings."
   ]
  },
  {
   "cell_type": "code",
   "execution_count": 23,
   "metadata": {},
   "outputs": [],
   "source": [
    "class PositionalSelector(BaseEstimator, TransformerMixin):\n",
    "    def __init__(self, positions):\n",
    "        self.positions = positions\n",
    "\n",
    "    def fit(self, X, y=None):\n",
    "        return self\n",
    "\n",
    "    def transform(self, X):\n",
    "        return np.array(X)[:, self.positions]\n",
    "\n",
    "\n",
    "class StripString(BaseEstimator, TransformerMixin):\n",
    "    def fit(self, X, y=None):\n",
    "        return self\n",
    "\n",
    "    def transform(self, X):\n",
    "        strip = np.vectorize(str.strip)\n",
    "        return strip(np.array(X))\n",
    "\n",
    "\n",
    "class SimpleOneHotEncoder(BaseEstimator, TransformerMixin):\n",
    "    def fit(self, X, y=None):\n",
    "        self.values = []\n",
    "        for c in range(X.shape[1]):\n",
    "            Y = X[:, c]\n",
    "            values = {v: i for i, v in enumerate(np.unique(Y))}\n",
    "            self.values.append(values)\n",
    "        return self\n",
    "\n",
    "    def transform(self, X):\n",
    "        X = np.array(X)\n",
    "        matrices = []\n",
    "        for c in range(X.shape[1]):\n",
    "            Y = X[:, c]\n",
    "            matrix = np.zeros(shape=(len(Y), len(self.values[c])), dtype=np.int8)\n",
    "            for i, x in enumerate(Y):\n",
    "                if x in self.values[c]:\n",
    "                    matrix[i][self.values[c][x]] = 1\n",
    "            matrices.append(matrix)\n",
    "        res = np.concatenate(matrices, axis=1)\n",
    "        return res"
   ]
  },
  {
   "cell_type": "markdown",
   "metadata": {},
   "source": [
    "## Random Forest Clssifier"
   ]
  },
  {
   "cell_type": "code",
   "execution_count": 24,
   "metadata": {},
   "outputs": [],
   "source": [
    "def create_pipeline():\n",
    "    numerical_indices = [4,5,6] \n",
    "    categorical_indices = [0,1,2,3] \n",
    "    p1 = make_pipeline(PositionalSelector(categorical_indices), StripString(), SimpleOneHotEncoder())\n",
    "    p2 = make_pipeline(PositionalSelector(numerical_indices), StandardScaler())\n",
    "    feats = FeatureUnion([\n",
    "        ('numericals', p1),\n",
    "        ('categoricals', p2)\n",
    "    ])\n",
    "\n",
    "    pipeline = Pipeline([\n",
    "        ('pre', feats),\n",
    "        ('estimator', RandomForestClassifier(max_depth=15,n_estimators=100))\n",
    "    ])\n",
    "    return pipeline"
   ]
  },
  {
   "cell_type": "code",
   "execution_count": 25,
   "metadata": {},
   "outputs": [],
   "source": [
    "X=features\n",
    "y=target\n",
    "X_train, X_test, y_train, y_test = train_test_split(X,y,test_size=0.2, random_state=123)"
   ]
  },
  {
   "cell_type": "code",
   "execution_count": 26,
   "metadata": {},
   "outputs": [],
   "source": [
    "pipeline = create_pipeline()\n",
    "sample=pipeline.fit(X_train,y_train)"
   ]
  },
  {
   "cell_type": "code",
   "execution_count": 27,
   "metadata": {},
   "outputs": [
    {
     "data": {
      "text/plain": [
       "0.5521632288331223"
      ]
     },
     "execution_count": 27,
     "metadata": {},
     "output_type": "execute_result"
    }
   ],
   "source": [
    "prediction=sample.predict(X_test)\n",
    "accuracy_score(y_test, prediction)"
   ]
  },
  {
   "cell_type": "code",
   "execution_count": 33,
   "metadata": {},
   "outputs": [],
   "source": [
    "def compute_mse(prediction, y_test):\n",
    "    \"\"\" Compute Root Mean Squared Error. \"\"\"\n",
    "    \n",
    "    return np.mean(np.power(prediction - y_test, 2))"
   ]
  },
  {
   "cell_type": "code",
   "execution_count": 34,
   "metadata": {},
   "outputs": [
    {
     "name": "stdout",
     "output_type": "stream",
     "text": [
      "MSE for estimate1: 1.200178717700499\n"
     ]
    }
   ],
   "source": [
    "print('MSE for estimate1:',compute_mse(prediction, y_test))"
   ]
  },
  {
   "cell_type": "markdown",
   "metadata": {},
   "source": [
    "## Gradient Boosting Classifier"
   ]
  },
  {
   "cell_type": "code",
   "execution_count": 35,
   "metadata": {},
   "outputs": [],
   "source": [
    "def create_pipeline():\n",
    "    numerical_indices = [4,5,6] \n",
    "    categorical_indices = [0,1,2,3] \n",
    "    p1 = make_pipeline(PositionalSelector(categorical_indices), StripString(), SimpleOneHotEncoder())\n",
    "    p2 = make_pipeline(PositionalSelector(numerical_indices), StandardScaler())\n",
    "    feats = FeatureUnion([\n",
    "        ('numericals', p1),\n",
    "        ('categoricals', p2)\n",
    "    ])\n",
    "\n",
    "    pipeline = Pipeline([\n",
    "        ('pre', feats),\n",
    "        ('estimator', GradientBoostingClassifier(n_estimators=100, learning_rate=1.0,\n",
    "                                                 max_depth=1, random_state=0))\n",
    "    ])\n",
    "    return pipeline"
   ]
  },
  {
   "cell_type": "code",
   "execution_count": 36,
   "metadata": {},
   "outputs": [],
   "source": [
    "pipeline_1 = create_pipeline()\n",
    "sample_1=pipeline_1.fit(X_train,y_train)"
   ]
  },
  {
   "cell_type": "code",
   "execution_count": 37,
   "metadata": {},
   "outputs": [
    {
     "data": {
      "text/plain": [
       "0.5208876312458113"
      ]
     },
     "execution_count": 37,
     "metadata": {},
     "output_type": "execute_result"
    }
   ],
   "source": [
    "prediction_1=sample_1.predict(X_test)\n",
    "accuracy_score(y_test, prediction_1)"
   ]
  },
  {
   "cell_type": "code",
   "execution_count": 38,
   "metadata": {},
   "outputs": [
    {
     "name": "stdout",
     "output_type": "stream",
     "text": [
      "MSE for estimate1: 1.2646660212971927\n"
     ]
    }
   ],
   "source": [
    "print('MSE for estimate1:',compute_mse(prediction_1, y_test))"
   ]
  },
  {
   "cell_type": "markdown",
   "metadata": {},
   "source": [
    "## Extra Trees Classifier"
   ]
  },
  {
   "cell_type": "code",
   "execution_count": 39,
   "metadata": {},
   "outputs": [],
   "source": [
    "def create_pipeline():\n",
    "    numerical_indices = [4,5,6] \n",
    "    categorical_indices = [0,1,2,3] \n",
    "    p1 = make_pipeline(PositionalSelector(categorical_indices), StripString(), SimpleOneHotEncoder())\n",
    "    p2 = make_pipeline(PositionalSelector(numerical_indices), StandardScaler())\n",
    "    feats = FeatureUnion([\n",
    "        ('numericals', p1),\n",
    "        ('categoricals', p2)\n",
    "    ])\n",
    "\n",
    "    pipeline = Pipeline([\n",
    "        ('pre', feats),\n",
    "        ('estimator', ExtraTreesClassifier(n_estimators=200, max_depth=None,\n",
    "                                           min_samples_split=6, random_state=0))\n",
    "    ])\n",
    "    return pipeline"
   ]
  },
  {
   "cell_type": "code",
   "execution_count": 40,
   "metadata": {},
   "outputs": [],
   "source": [
    "pipeline_2 = create_pipeline()\n",
    "sample_2=pipeline_2.fit(X_train,y_train)"
   ]
  },
  {
   "cell_type": "code",
   "execution_count": 41,
   "metadata": {},
   "outputs": [
    {
     "data": {
      "text/plain": [
       "0.7253257874748679"
      ]
     },
     "execution_count": 41,
     "metadata": {},
     "output_type": "execute_result"
    }
   ],
   "source": [
    "prediction_2=sample_2.predict(X_test)\n",
    "accuracy_score(y_test, prediction_2)"
   ]
  },
  {
   "cell_type": "code",
   "execution_count": 42,
   "metadata": {},
   "outputs": [
    {
     "name": "stdout",
     "output_type": "stream",
     "text": [
      "MSE for estimate1: 0.6465112815548439\n"
     ]
    }
   ],
   "source": [
    "print('MSE for estimate1:',compute_mse(prediction_2, y_test))"
   ]
  },
  {
   "cell_type": "markdown",
   "metadata": {},
   "source": [
    "#### Cohen Kappa Score\n",
    "\n",
    "![picture](https://www.statisticshowto.datasciencecentral.com/wp-content/uploads/2014/12/cohens-kappa-statistic.png)"
   ]
  },
  {
   "cell_type": "code",
   "execution_count": 43,
   "metadata": {},
   "outputs": [
    {
     "name": "stdout",
     "output_type": "stream",
     "text": [
      "cohen kappa score: 0.6337851968210766\n",
      "[[ 9710  3252  3367   524]\n",
      " [ 2394 11422  2151   779]\n",
      " [ 2522  2466 10997   779]\n",
      " [   60    97    52 16573]]\n"
     ]
    }
   ],
   "source": [
    "from sklearn.metrics import cohen_kappa_score\n",
    "from sklearn.metrics import confusion_matrix\n",
    "print('cohen kappa score:',cohen_kappa_score(y_test, prediction_2))\n",
    "cm=confusion_matrix(y_test, prediction_2)\n",
    "print(cm)"
   ]
  },
  {
   "cell_type": "code",
   "execution_count": 27,
   "metadata": {},
   "outputs": [
    {
     "data": {
      "image/png": "[encoded data removed]",
      "text/plain": [
       "<Figure size 432x288 with 2 Axes>"
      ]
     },
     "metadata": {
      "needs_background": "light"
     },
     "output_type": "display_data"
    }
   ],
   "source": [
    "import seaborn as sn\n",
    "labels=[1, 2, 3, 4]\n",
    "fig = plt.figure()\n",
    "ax = fig.add_subplot(111)\n",
    "cax = ax.matshow(cm)\n",
    "plt.title('Confusion matrix of the extra tree classifier \\nAccuracy:{0:.3f}'.format(accuracy_score(y_test, prediction_2)),y=1.2)\n",
    "fig.colorbar(cax)\n",
    "ax.set_xticklabels([''] + labels)\n",
    "ax.set_yticklabels([''] + labels)\n",
    "plt.xlabel('Predicted')\n",
    "plt.ylabel('True')\n",
    "plt.show()"
   ]
  },
  {
   "cell_type": "markdown",
   "metadata": {},
   "source": [
    "## Predicting the new data set\n",
    "\n",
    "### Load the new test data"
   ]
  },
  {
   "cell_type": "code",
   "execution_count": 28,
   "metadata": {},
   "outputs": [
    {
     "data": {
      "text/html": [
       "<div>\n",
       "<style scoped>\n",
       "    .dataframe tbody tr th:only-of-type {\n",
       "        vertical-align: middle;\n",
       "    }\n",
       "\n",
       "    .dataframe tbody tr th {\n",
       "        vertical-align: top;\n",
       "    }\n",
       "\n",
       "    .dataframe thead th {\n",
       "        text-align: right;\n",
       "    }\n",
       "</style>\n",
       "<table border=\"1\" class=\"dataframe\">\n",
       "  <thead>\n",
       "    <tr style=\"text-align: right;\">\n",
       "      <th></th>\n",
       "      <th>name</th>\n",
       "      <th>category</th>\n",
       "      <th>main_category</th>\n",
       "      <th>currency</th>\n",
       "      <th>deadline</th>\n",
       "      <th>launched</th>\n",
       "      <th>country</th>\n",
       "      <th>usd_goal_real</th>\n",
       "    </tr>\n",
       "  </thead>\n",
       "  <tbody>\n",
       "    <tr>\n",
       "      <th>0</th>\n",
       "      <td>Where is Hank?</td>\n",
       "      <td>Narrative Film</td>\n",
       "      <td>Film &amp; Video</td>\n",
       "      <td>USD</td>\n",
       "      <td>2013-02-26</td>\n",
       "      <td>2013-01-12 00:20:50</td>\n",
       "      <td>US</td>\n",
       "      <td>45000.00</td>\n",
       "    </tr>\n",
       "    <tr>\n",
       "      <th>1</th>\n",
       "      <td>Of Jesus and Madmen</td>\n",
       "      <td>Nonfiction</td>\n",
       "      <td>Publishing</td>\n",
       "      <td>CAD</td>\n",
       "      <td>2013-10-09</td>\n",
       "      <td>2013-09-09 18:19:37</td>\n",
       "      <td>CA</td>\n",
       "      <td>2406.39</td>\n",
       "    </tr>\n",
       "    <tr>\n",
       "      <th>2</th>\n",
       "      <td>The Cottage Market</td>\n",
       "      <td>Crafts</td>\n",
       "      <td>Crafts</td>\n",
       "      <td>USD</td>\n",
       "      <td>2014-10-02</td>\n",
       "      <td>2014-09-02 17:11:50</td>\n",
       "      <td>US</td>\n",
       "      <td>5000.00</td>\n",
       "    </tr>\n",
       "    <tr>\n",
       "      <th>3</th>\n",
       "      <td>The Beard</td>\n",
       "      <td>Comic Books</td>\n",
       "      <td>Comics</td>\n",
       "      <td>USD</td>\n",
       "      <td>2014-11-08</td>\n",
       "      <td>2014-10-09 22:27:52</td>\n",
       "      <td>US</td>\n",
       "      <td>1500.00</td>\n",
       "    </tr>\n",
       "    <tr>\n",
       "      <th>4</th>\n",
       "      <td>Rebel Army Origins: The Heroic Story Of Major ...</td>\n",
       "      <td>Comics</td>\n",
       "      <td>Comics</td>\n",
       "      <td>GBP</td>\n",
       "      <td>2016-01-28</td>\n",
       "      <td>2015-12-29 16:59:29</td>\n",
       "      <td>GB</td>\n",
       "      <td>142.91</td>\n",
       "    </tr>\n",
       "  </tbody>\n",
       "</table>\n",
       "</div>"
      ],
      "text/plain": [
       "                                                name        category  \\\n",
       "0                                     Where is Hank?  Narrative Film   \n",
       "1                                Of Jesus and Madmen      Nonfiction   \n",
       "2                                 The Cottage Market          Crafts   \n",
       "3                                          The Beard     Comic Books   \n",
       "4  Rebel Army Origins: The Heroic Story Of Major ...          Comics   \n",
       "\n",
       "  main_category currency    deadline             launched country  \\\n",
       "0  Film & Video      USD  2013-02-26  2013-01-12 00:20:50      US   \n",
       "1    Publishing      CAD  2013-10-09  2013-09-09 18:19:37      CA   \n",
       "2        Crafts      USD  2014-10-02  2014-09-02 17:11:50      US   \n",
       "3        Comics      USD  2014-11-08  2014-10-09 22:27:52      US   \n",
       "4        Comics      GBP  2016-01-28  2015-12-29 16:59:29      GB   \n",
       "\n",
       "   usd_goal_real  \n",
       "0       45000.00  \n",
       "1        2406.39  \n",
       "2        5000.00  \n",
       "3        1500.00  \n",
       "4         142.91  "
      ]
     },
     "execution_count": 28,
     "metadata": {},
     "output_type": "execute_result"
    }
   ],
   "source": [
    "tst=pd.read_csv('kickstarter-test-classifier-no-labels.csv')\n",
    "tst.head()"
   ]
  },
  {
   "cell_type": "markdown",
   "metadata": {},
   "source": [
    "## Data Wrangling"
   ]
  },
  {
   "cell_type": "code",
   "execution_count": 29,
   "metadata": {},
   "outputs": [],
   "source": [
    "tst['deadline']=tst['deadline'].apply(pd.to_datetime)\n",
    "tst['launched']=tst['launched'].apply(pd.to_datetime)"
   ]
  },
  {
   "cell_type": "code",
   "execution_count": 30,
   "metadata": {},
   "outputs": [
    {
     "data": {
      "text/plain": [
       "0   44 days 23:39:10\n",
       "1   29 days 05:40:23\n",
       "2   29 days 06:48:10\n",
       "3   29 days 01:32:08\n",
       "4   29 days 07:00:31\n",
       "Name: Howlong, dtype: timedelta64[ns]"
      ]
     },
     "execution_count": 30,
     "metadata": {},
     "output_type": "execute_result"
    }
   ],
   "source": [
    "tst['Howlong']=tst['deadline']-tst['launched']\n",
    "tst['Howlong'].head()"
   ]
  },
  {
   "cell_type": "code",
   "execution_count": 31,
   "metadata": {},
   "outputs": [
    {
     "data": {
      "text/html": [
       "<div>\n",
       "<style scoped>\n",
       "    .dataframe tbody tr th:only-of-type {\n",
       "        vertical-align: middle;\n",
       "    }\n",
       "\n",
       "    .dataframe tbody tr th {\n",
       "        vertical-align: top;\n",
       "    }\n",
       "\n",
       "    .dataframe thead th {\n",
       "        text-align: right;\n",
       "    }\n",
       "</style>\n",
       "<table border=\"1\" class=\"dataframe\">\n",
       "  <thead>\n",
       "    <tr style=\"text-align: right;\">\n",
       "      <th></th>\n",
       "      <th>name</th>\n",
       "      <th>category</th>\n",
       "      <th>main_category</th>\n",
       "      <th>currency</th>\n",
       "      <th>deadline</th>\n",
       "      <th>launched</th>\n",
       "      <th>country</th>\n",
       "      <th>usd_goal_real</th>\n",
       "      <th>Howlong</th>\n",
       "    </tr>\n",
       "  </thead>\n",
       "  <tbody>\n",
       "    <tr>\n",
       "      <th>0</th>\n",
       "      <td>Where is Hank?</td>\n",
       "      <td>Narrative Film</td>\n",
       "      <td>Film &amp; Video</td>\n",
       "      <td>USD</td>\n",
       "      <td>2013-02-26</td>\n",
       "      <td>2013-01-12 00:20:50</td>\n",
       "      <td>US</td>\n",
       "      <td>45000.00</td>\n",
       "      <td>44</td>\n",
       "    </tr>\n",
       "    <tr>\n",
       "      <th>1</th>\n",
       "      <td>Of Jesus and Madmen</td>\n",
       "      <td>Nonfiction</td>\n",
       "      <td>Publishing</td>\n",
       "      <td>CAD</td>\n",
       "      <td>2013-10-09</td>\n",
       "      <td>2013-09-09 18:19:37</td>\n",
       "      <td>CA</td>\n",
       "      <td>2406.39</td>\n",
       "      <td>29</td>\n",
       "    </tr>\n",
       "    <tr>\n",
       "      <th>2</th>\n",
       "      <td>The Cottage Market</td>\n",
       "      <td>Crafts</td>\n",
       "      <td>Crafts</td>\n",
       "      <td>USD</td>\n",
       "      <td>2014-10-02</td>\n",
       "      <td>2014-09-02 17:11:50</td>\n",
       "      <td>US</td>\n",
       "      <td>5000.00</td>\n",
       "      <td>29</td>\n",
       "    </tr>\n",
       "    <tr>\n",
       "      <th>3</th>\n",
       "      <td>The Beard</td>\n",
       "      <td>Comic Books</td>\n",
       "      <td>Comics</td>\n",
       "      <td>USD</td>\n",
       "      <td>2014-11-08</td>\n",
       "      <td>2014-10-09 22:27:52</td>\n",
       "      <td>US</td>\n",
       "      <td>1500.00</td>\n",
       "      <td>29</td>\n",
       "    </tr>\n",
       "    <tr>\n",
       "      <th>4</th>\n",
       "      <td>Rebel Army Origins: The Heroic Story Of Major ...</td>\n",
       "      <td>Comics</td>\n",
       "      <td>Comics</td>\n",
       "      <td>GBP</td>\n",
       "      <td>2016-01-28</td>\n",
       "      <td>2015-12-29 16:59:29</td>\n",
       "      <td>GB</td>\n",
       "      <td>142.91</td>\n",
       "      <td>29</td>\n",
       "    </tr>\n",
       "  </tbody>\n",
       "</table>\n",
       "</div>"
      ],
      "text/plain": [
       "                                                name        category  \\\n",
       "0                                     Where is Hank?  Narrative Film   \n",
       "1                                Of Jesus and Madmen      Nonfiction   \n",
       "2                                 The Cottage Market          Crafts   \n",
       "3                                          The Beard     Comic Books   \n",
       "4  Rebel Army Origins: The Heroic Story Of Major ...          Comics   \n",
       "\n",
       "  main_category currency   deadline            launched country  \\\n",
       "0  Film & Video      USD 2013-02-26 2013-01-12 00:20:50      US   \n",
       "1    Publishing      CAD 2013-10-09 2013-09-09 18:19:37      CA   \n",
       "2        Crafts      USD 2014-10-02 2014-09-02 17:11:50      US   \n",
       "3        Comics      USD 2014-11-08 2014-10-09 22:27:52      US   \n",
       "4        Comics      GBP 2016-01-28 2015-12-29 16:59:29      GB   \n",
       "\n",
       "   usd_goal_real  Howlong  \n",
       "0       45000.00       44  \n",
       "1        2406.39       29  \n",
       "2        5000.00       29  \n",
       "3        1500.00       29  \n",
       "4         142.91       29  "
      ]
     },
     "execution_count": 31,
     "metadata": {},
     "output_type": "execute_result"
    }
   ],
   "source": [
    "tst['Howlong']=tst.Howlong.astype('str').str.split(' ').str[0]\n",
    "tst['Howlong']=tst.Howlong.astype('int32')\n",
    "tst.head()"
   ]
  },
  {
   "cell_type": "code",
   "execution_count": 32,
   "metadata": {},
   "outputs": [],
   "source": [
    "data_b=tst.dropna()\n",
    "data_b.loc[data_b['name'].str.contains(\"anceled\"),'canceled']=1"
   ]
  },
  {
   "cell_type": "code",
   "execution_count": 33,
   "metadata": {},
   "outputs": [
    {
     "data": {
      "text/html": [
       "<div>\n",
       "<style scoped>\n",
       "    .dataframe tbody tr th:only-of-type {\n",
       "        vertical-align: middle;\n",
       "    }\n",
       "\n",
       "    .dataframe tbody tr th {\n",
       "        vertical-align: top;\n",
       "    }\n",
       "\n",
       "    .dataframe thead th {\n",
       "        text-align: right;\n",
       "    }\n",
       "</style>\n",
       "<table border=\"1\" class=\"dataframe\">\n",
       "  <thead>\n",
       "    <tr style=\"text-align: right;\">\n",
       "      <th></th>\n",
       "      <th>category</th>\n",
       "      <th>main_category</th>\n",
       "      <th>currency</th>\n",
       "      <th>country</th>\n",
       "      <th>usd_goal_real</th>\n",
       "      <th>Howlong</th>\n",
       "      <th>canceled</th>\n",
       "    </tr>\n",
       "  </thead>\n",
       "  <tbody>\n",
       "    <tr>\n",
       "      <th>0</th>\n",
       "      <td>Narrative Film</td>\n",
       "      <td>Film &amp; Video</td>\n",
       "      <td>USD</td>\n",
       "      <td>US</td>\n",
       "      <td>45000.00</td>\n",
       "      <td>44</td>\n",
       "      <td>0.0</td>\n",
       "    </tr>\n",
       "    <tr>\n",
       "      <th>1</th>\n",
       "      <td>Nonfiction</td>\n",
       "      <td>Publishing</td>\n",
       "      <td>CAD</td>\n",
       "      <td>CA</td>\n",
       "      <td>2406.39</td>\n",
       "      <td>29</td>\n",
       "      <td>0.0</td>\n",
       "    </tr>\n",
       "    <tr>\n",
       "      <th>2</th>\n",
       "      <td>Crafts</td>\n",
       "      <td>Crafts</td>\n",
       "      <td>USD</td>\n",
       "      <td>US</td>\n",
       "      <td>5000.00</td>\n",
       "      <td>29</td>\n",
       "      <td>0.0</td>\n",
       "    </tr>\n",
       "    <tr>\n",
       "      <th>3</th>\n",
       "      <td>Comic Books</td>\n",
       "      <td>Comics</td>\n",
       "      <td>USD</td>\n",
       "      <td>US</td>\n",
       "      <td>1500.00</td>\n",
       "      <td>29</td>\n",
       "      <td>0.0</td>\n",
       "    </tr>\n",
       "    <tr>\n",
       "      <th>4</th>\n",
       "      <td>Comics</td>\n",
       "      <td>Comics</td>\n",
       "      <td>GBP</td>\n",
       "      <td>GB</td>\n",
       "      <td>142.91</td>\n",
       "      <td>29</td>\n",
       "      <td>0.0</td>\n",
       "    </tr>\n",
       "  </tbody>\n",
       "</table>\n",
       "</div>"
      ],
      "text/plain": [
       "         category main_category currency country  usd_goal_real  Howlong  \\\n",
       "0  Narrative Film  Film & Video      USD      US       45000.00       44   \n",
       "1      Nonfiction    Publishing      CAD      CA        2406.39       29   \n",
       "2          Crafts        Crafts      USD      US        5000.00       29   \n",
       "3     Comic Books        Comics      USD      US        1500.00       29   \n",
       "4          Comics        Comics      GBP      GB         142.91       29   \n",
       "\n",
       "   canceled  \n",
       "0       0.0  \n",
       "1       0.0  \n",
       "2       0.0  \n",
       "3       0.0  \n",
       "4       0.0  "
      ]
     },
     "execution_count": 33,
     "metadata": {},
     "output_type": "execute_result"
    }
   ],
   "source": [
    "dfz=data_b.drop(['name','deadline','launched'],axis=1)\n",
    "value={'canceled': 0}\n",
    "dfz.fillna(value=value,inplace=True)\n",
    "dfz.head()"
   ]
  },
  {
   "cell_type": "code",
   "execution_count": 34,
   "metadata": {},
   "outputs": [],
   "source": [
    "X_test=dfz.as_matrix()"
   ]
  },
  {
   "cell_type": "markdown",
   "metadata": {},
   "source": [
    "## Predictions"
   ]
  },
  {
   "cell_type": "code",
   "execution_count": 35,
   "metadata": {},
   "outputs": [
    {
     "name": "stderr",
     "output_type": "stream",
     "text": [
      "/anaconda3/lib/python3.7/site-packages/sklearn/utils/validation.py:595: DataConversionWarning: Data with input dtype object was converted to float64 by StandardScaler.\n",
      "  warnings.warn(msg, DataConversionWarning)\n"
     ]
    }
   ],
   "source": [
    "prediction_new=sample_2.predict(X_test)\n"
   ]
  },
  {
   "cell_type": "code",
   "execution_count": 42,
   "metadata": {},
   "outputs": [
    {
     "data": {
      "text/plain": [
       "(73732, 1)"
      ]
     },
     "execution_count": 42,
     "metadata": {},
     "output_type": "execute_result"
    }
   ],
   "source": [
    "new_pred=pd.DataFrame(prediction_new)\n",
    "new_pred.to_csv('result.csv',index=False,header=False)\n",
    "new=pd.read_csv('result.csv')\n",
    "new.shape"
   ]
  }
 ],
 "metadata": {
  "kernelspec": {
   "display_name": "Python 3",
   "language": "python",
   "name": "python3"
  },
  "language_info": {
   "codemirror_mode": {
    "name": "ipython",
    "version": 3
   },
   "file_extension": ".py",
   "mimetype": "text/x-python",
   "name": "python",
   "nbconvert_exporter": "python",
   "pygments_lexer": "ipython3",
   "version": "3.7.1"
  }
 },
 "nbformat": 4,
 "nbformat_minor": 2
}
